{
  "nbformat": 4,
  "nbformat_minor": 0,
  "metadata": {
    "colab": {
      "name": "cassava_leaf_disease_detection.ipynb",
      "provenance": [],
      "collapsed_sections": [],
      "authorship_tag": "ABX9TyPVa6be+kUILsctOqN5Tcgp",
      "include_colab_link": true
    },
    "kernelspec": {
      "name": "python3",
      "display_name": "Python 3"
    },
    "language_info": {
      "name": "python"
    },
    "accelerator": "GPU"
  },
  "cells": [
    {
      "cell_type": "markdown",
      "metadata": {
        "id": "view-in-github",
        "colab_type": "text"
      },
      "source": [
        "<a href=\"https://colab.research.google.com/github/yigagilbert/cassava_disease_detection-model/blob/main/cassava_leaf_disease_detection.ipynb\" target=\"_parent\"><img src=\"https://colab.research.google.com/assets/colab-badge.svg\" alt=\"Open In Colab\"/></a>"
      ]
    },
    {
      "cell_type": "code",
      "execution_count": null,
      "metadata": {
        "id": "7zSvoKEsO2yr",
        "colab": {
          "base_uri": "https://localhost:8080/"
        },
        "outputId": "5a4e332c-a1fb-4111-a278-48cd8d1d2e8e"
      },
      "outputs": [
        {
          "output_type": "stream",
          "name": "stdout",
          "text": [
            "2.8.2\n",
            "0.12.0\n"
          ]
        }
      ],
      "source": [
        "import tensorflow as tf\n",
        "import tensorflow_hub as hub\n",
        "import random\n",
        "\n",
        "print(tf.__version__)\n",
        "print(hub.__version__)\n",
        "seed = 50\n",
        "tf.random.set_seed(seed)\n",
        "random.seed(seed)"
      ]
    },
    {
      "cell_type": "code",
      "source": [
        "from google.colab import files, drive\n",
        "drive.mount('/content/drive')\n"
      ],
      "metadata": {
        "id": "oPossOoLPZSU",
        "colab": {
          "base_uri": "https://localhost:8080/"
        },
        "outputId": "1e6db2ec-20d2-4833-d278-42234001b2fa"
      },
      "execution_count": null,
      "outputs": [
        {
          "output_type": "stream",
          "name": "stdout",
          "text": [
            "Mounted at /content/drive\n"
          ]
        }
      ]
    },
    {
      "cell_type": "code",
      "source": [
        "!pip install kaggle --upgrade"
      ],
      "metadata": {
        "colab": {
          "base_uri": "https://localhost:8080/"
        },
        "id": "d0-3XdSURMXi",
        "outputId": "08d92624-bd13-43e3-cc08-0fe9aa34ac3d"
      },
      "execution_count": null,
      "outputs": [
        {
          "output_type": "stream",
          "name": "stdout",
          "text": [
            "Looking in indexes: https://pypi.org/simple, https://us-python.pkg.dev/colab-wheels/public/simple/\n",
            "Requirement already satisfied: kaggle in /usr/local/lib/python3.7/dist-packages (1.5.12)\n",
            "Requirement already satisfied: requests in /usr/local/lib/python3.7/dist-packages (from kaggle) (2.23.0)\n",
            "Requirement already satisfied: certifi in /usr/local/lib/python3.7/dist-packages (from kaggle) (2022.5.18.1)\n",
            "Requirement already satisfied: six>=1.10 in /usr/local/lib/python3.7/dist-packages (from kaggle) (1.15.0)\n",
            "Requirement already satisfied: python-slugify in /usr/local/lib/python3.7/dist-packages (from kaggle) (6.1.2)\n",
            "Requirement already satisfied: python-dateutil in /usr/local/lib/python3.7/dist-packages (from kaggle) (2.8.2)\n",
            "Requirement already satisfied: tqdm in /usr/local/lib/python3.7/dist-packages (from kaggle) (4.64.0)\n",
            "Requirement already satisfied: urllib3 in /usr/local/lib/python3.7/dist-packages (from kaggle) (1.24.3)\n",
            "Requirement already satisfied: text-unidecode>=1.3 in /usr/local/lib/python3.7/dist-packages (from python-slugify->kaggle) (1.3)\n",
            "Requirement already satisfied: chardet<4,>=3.0.2 in /usr/local/lib/python3.7/dist-packages (from requests->kaggle) (3.0.4)\n",
            "Requirement already satisfied: idna<3,>=2.5 in /usr/local/lib/python3.7/dist-packages (from requests->kaggle) (2.10)\n"
          ]
        }
      ]
    },
    {
      "cell_type": "code",
      "source": [
        "! pip install -q kaggle\n",
        "\n",
        "files.upload()\n"
      ],
      "metadata": {
        "colab": {
          "resources": {
            "http://localhost:8080/nbextensions/google.colab/files.js": {
              "data": "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",
              "ok": true,
              "headers": [
                [
                  "content-type",
                  "application/javascript"
                ]
              ],
              "status": 200,
              "status_text": ""
            }
          },
          "base_uri": "https://localhost:8080/",
          "height": 90
        },
        "id": "tS4ePPCQRaEU",
        "outputId": "78cdd03b-dfe5-4245-9e86-1043d96777df"
      },
      "execution_count": null,
      "outputs": [
        {
          "output_type": "display_data",
          "data": {
            "text/plain": [
              "<IPython.core.display.HTML object>"
            ],
            "text/html": [
              "\n",
              "     <input type=\"file\" id=\"files-c9dcfe21-b67b-44fd-bc50-dfc60772ba78\" name=\"files[]\" multiple disabled\n",
              "        style=\"border:none\" />\n",
              "     <output id=\"result-c9dcfe21-b67b-44fd-bc50-dfc60772ba78\">\n",
              "      Upload widget is only available when the cell has been executed in the\n",
              "      current browser session. Please rerun this cell to enable.\n",
              "      </output>\n",
              "      <script src=\"/nbextensions/google.colab/files.js\"></script> "
            ]
          },
          "metadata": {}
        },
        {
          "output_type": "stream",
          "name": "stdout",
          "text": [
            "Saving kaggle.json to kaggle.json\n"
          ]
        },
        {
          "output_type": "execute_result",
          "data": {
            "text/plain": [
              "{'kaggle.json': b'{\"username\":\"yigagilbert\",\"key\":\"22051da3c41beb1e66628053b3779635\"}'}"
            ]
          },
          "metadata": {},
          "execution_count": 6
        }
      ]
    },
    {
      "cell_type": "markdown",
      "source": [
        "Make directory named kaggle and copy kaggle.json file there"
      ],
      "metadata": {
        "id": "JmTF2Wj4WKi1"
      }
    },
    {
      "cell_type": "code",
      "source": [
        "! mkdir ~/.kaggle\n",
        "\n",
        "! cp kaggle.json ~/.kaggle/"
      ],
      "metadata": {
        "id": "Sa-MNwkpWJEh"
      },
      "execution_count": null,
      "outputs": []
    },
    {
      "cell_type": "markdown",
      "source": [
        "change the permission of the file"
      ],
      "metadata": {
        "id": "SS3wdfwJWZXl"
      }
    },
    {
      "cell_type": "code",
      "source": [
        "! chmod 600 ~/.kaggle/kaggle.json"
      ],
      "metadata": {
        "id": "LQMyQaK1WXu6"
      },
      "execution_count": null,
      "outputs": []
    },
    {
      "cell_type": "markdown",
      "source": [
        "test to see if my set up is okay"
      ],
      "metadata": {
        "id": "HaAq9c-zWjX5"
      }
    },
    {
      "cell_type": "code",
      "source": [
        "! kaggle datasets list\n"
      ],
      "metadata": {
        "colab": {
          "base_uri": "https://localhost:8080/"
        },
        "id": "2t9SVSMNWnR5",
        "outputId": "f0438470-079f-43a1-fa5a-c7e707900a20"
      },
      "execution_count": null,
      "outputs": [
        {
          "output_type": "stream",
          "name": "stdout",
          "text": [
            "ref                                                          title                                                size  lastUpdated          downloadCount  voteCount  usabilityRating  \n",
            "-----------------------------------------------------------  --------------------------------------------------  -----  -------------------  -------------  ---------  ---------------  \n",
            "victorsoeiro/netflix-tv-shows-and-movies                     Netflix TV Shows and Movies                           2MB  2022-05-15 00:01:23           7282        222  1.0              \n",
            "devansodariya/student-performance-data                       Student Performance Dataset                           7KB  2022-05-26 13:55:09           3137        127  0.9705882        \n",
            "iamsouravbanerjee/software-professional-salaries-2022        Salary Dataset - 2022                               526KB  2022-06-10 06:02:59           1125         35  1.0              \n",
            "paradisejoy/top-hits-spotify-from-20002019                   Top Hits Spotify from 2000-2019                      94KB  2022-05-31 07:20:57           5775        139  1.0              \n",
            "surajjha101/stores-area-and-sales-data                       Supermarket store branches sales analysis            10KB  2022-04-29 11:10:16           6047        174  1.0              \n",
            "mayureshkoli/police-deaths-in-usa-from-1791-to-2022          Police deaths in USA from 1791 to 2022              698KB  2022-06-09 17:47:57            341         23  1.0              \n",
            "saddamazyazy/go-to-college-dataset                           Go To College Dataset                                12KB  2022-05-20 10:46:02           1175         32  1.0              \n",
            "gunapro/student-behavior                                     Student Behavior                                      5KB  2022-06-03 13:45:54            838         35  0.7647059        \n",
            "odins0n/amex-parquet                                         Amex Competition Data in Parquet Format               9GB  2022-05-25 23:20:19            755        101  1.0              \n",
            "ahmedshahriarsakib/usa-real-estate-dataset                   USA Real Estate Dataset                               5MB  2022-06-04 21:40:25            750         30  1.0              \n",
            "kkhandekar/cost-of-living-index-by-city-2022                 Cost of Living Index by City 2022                    15KB  2022-06-03 02:50:24            701         24  1.0              \n",
            "ruchi798/parquet-files-amexdefault-prediction                Feather & Parquet Files : AMEX-Default Prediction    22GB  2022-05-26 05:46:53            551         83  1.0              \n",
            "azminetoushikwasi/ucl-202122-uefa-champions-league           UCL ⚽ 2021-22 ⭐ Players Data | Champions League      55KB  2022-06-13 08:36:43           1085         42  1.0              \n",
            "prasertk/cities-with-the-best-worklife-balance-2022          Cities with the Best Work-Life Balance 2022           5KB  2022-06-01 09:15:52            647         26  1.0              \n",
            "kuchhbhi/play-store-apps-may2022                             Play Store Apps May-2022                            468KB  2022-05-19 07:57:19            686         25  1.0              \n",
            "aryashah2k/sample-students-grades-dataset-tutorial-notebook  Sample Students Grades Dataset Tutorial Notebook     360B  2022-06-07 09:11:25            186         25  1.0              \n",
            "dansbecker/melbourne-housing-snapshot                        Melbourne Housing Snapshot                          451KB  2018-06-05 12:52:24          88669       1084  0.7058824        \n",
            "imoore/age-dataset                                           Age dataset: life, work, and death of 1.22M people   34MB  2022-06-07 08:56:52            288         34  1.0              \n",
            "ankanhore545/dropout-or-academic-success                     Predict Dropout or Academic Success                 103KB  2022-06-05 11:32:43            343         23  0.9117647        \n",
            "datasnaek/youtube-new                                        Trending YouTube Video Statistics                   201MB  2019-06-03 00:56:47         176784       4555  0.7941176        \n"
          ]
        }
      ]
    },
    {
      "cell_type": "code",
      "source": [
        "! kaggle competitions download -c 'cassava-disease'"
      ],
      "metadata": {
        "colab": {
          "base_uri": "https://localhost:8080/"
        },
        "id": "irFBL1RpXJbf",
        "outputId": "7a6cdff1-6698-4287-aa7c-11533419e561"
      },
      "execution_count": null,
      "outputs": [
        {
          "output_type": "stream",
          "name": "stdout",
          "text": [
            "Downloading cassava-disease.zip to /content\n",
            " 99% 2.28G/2.30G [00:09<00:00, 202MB/s]\n",
            "100% 2.30G/2.30G [00:09<00:00, 252MB/s]\n"
          ]
        }
      ]
    },
    {
      "cell_type": "code",
      "source": [
        "! unzip cassava-disease.zip > /dev/null"
      ],
      "metadata": {
        "id": "fdQQtHI7bOFQ"
      },
      "execution_count": null,
      "outputs": []
    },
    {
      "cell_type": "code",
      "source": [
        "! unzip test.zip > /dev/null\n",
        "! unzip train.zip > /dev/null"
      ],
      "metadata": {
        "id": "oP1b2V3Lb2ck"
      },
      "execution_count": null,
      "outputs": []
    },
    {
      "cell_type": "code",
      "source": [
        ""
      ],
      "metadata": {
        "id": "hkrhxnhGmqLv"
      },
      "execution_count": null,
      "outputs": []
    },
    {
      "cell_type": "code",
      "source": [
        "from tensorflow.keras.preprocessing.image import ImageDataGenerator\n",
        "\n",
        "imageDataGenerator = ImageDataGenerator(rescale = 1/255,\n",
        "                                        rotation_range = 45,\n",
        "                                        horizontal_flip = True,\n",
        "                                        vertical_flip = True,\n",
        "                                        zoom_range = 0.2,\n",
        "                                        shear_range = 10,\n",
        "                                        validation_split = 0.2,\n",
        "                                        )\n",
        "\n",
        "train_gen = imageDataGenerator.flow_from_directory('/content/train/', target_size = (380, 380), subset = 'training', \n",
        "                                                   class_mode = 'categorical', batch_size = 32, shuffle = True)\n",
        "val_gen = imageDataGenerator.flow_from_directory('/content/train/', target_size = (380, 380), subset = 'validation', \n",
        "                                                   class_mode = 'categorical', batch_size = 32, shuffle = False)"
      ],
      "metadata": {
        "colab": {
          "base_uri": "https://localhost:8080/"
        },
        "id": "gTmWrvq_ci-3",
        "outputId": "95aeac9e-b533-4922-9eb8-505ea9857c4b"
      },
      "execution_count": null,
      "outputs": [
        {
          "output_type": "stream",
          "name": "stdout",
          "text": [
            "Found 4527 images belonging to 5 classes.\n",
            "Found 1129 images belonging to 5 classes.\n"
          ]
        }
      ]
    },
    {
      "cell_type": "code",
      "source": [
        "num_classes = 5"
      ],
      "metadata": {
        "id": "wgaoZi8ijIeQ"
      },
      "execution_count": null,
      "outputs": []
    },
    {
      "cell_type": "code",
      "source": [
        "from tensorflow.keras.layers import Dense, InputLayer, Dropout\n",
        "from tensorflow.keras.optimizers import Adam\n",
        "\n",
        "MODULE_HANDLE = \"https://tfhub.dev/tensorflow/efficientnet/b4/feature-vector/1\"\n",
        "IMAGE_SIZE = (380, 380)\n",
        "\n",
        "model = tf.keras.Sequential([\n",
        "                             InputLayer(input_shape = IMAGE_SIZE + (3,)),\n",
        "                             hub.KerasLayer(MODULE_HANDLE, trainable = False),\n",
        "                             Dense(512,activation= 'relu'),\n",
        "                             Dropout(0.33),\n",
        "                             Dense(256,activation= 'relu' ),\n",
        "                             Dropout(0.33),\n",
        "                             Dense(128,activation= 'relu' ),\n",
        "                             Dropout(0.33),\n",
        "                             Dense(num_classes, activation='softmax'),\n",
        "])\n",
        "\n",
        "model.compile(optimizer = Adam(), loss = 'categorical_crossentropy', metrics = ['acc'])\n",
        "model.summary()"
      ],
      "metadata": {
        "colab": {
          "base_uri": "https://localhost:8080/"
        },
        "id": "546c8HMtjNGu",
        "outputId": "d7581679-71c5-4764-f2d6-f97295d8d3df"
      },
      "execution_count": null,
      "outputs": [
        {
          "output_type": "stream",
          "name": "stdout",
          "text": [
            "Model: \"sequential\"\n",
            "_________________________________________________________________\n",
            " Layer (type)                Output Shape              Param #   \n",
            "=================================================================\n",
            " keras_layer (KerasLayer)    (None, 1792)              17673816  \n",
            "                                                                 \n",
            " dense (Dense)               (None, 512)               918016    \n",
            "                                                                 \n",
            " dropout (Dropout)           (None, 512)               0         \n",
            "                                                                 \n",
            " dense_1 (Dense)             (None, 256)               131328    \n",
            "                                                                 \n",
            " dropout_1 (Dropout)         (None, 256)               0         \n",
            "                                                                 \n",
            " dense_2 (Dense)             (None, 128)               32896     \n",
            "                                                                 \n",
            " dropout_2 (Dropout)         (None, 128)               0         \n",
            "                                                                 \n",
            " dense_3 (Dense)             (None, 5)                 645       \n",
            "                                                                 \n",
            "=================================================================\n",
            "Total params: 18,756,701\n",
            "Trainable params: 1,082,885\n",
            "Non-trainable params: 17,673,816\n",
            "_________________________________________________________________\n"
          ]
        }
      ]
    },
    {
      "cell_type": "code",
      "source": [
        "for layer in model.layers:\n",
        "  print(layer.name + ':' + str(layer.trainable))"
      ],
      "metadata": {
        "colab": {
          "base_uri": "https://localhost:8080/"
        },
        "id": "_b6s0Xmuu6Fq",
        "outputId": "41623520-e5bd-4522-bd0b-81f1fb59bb2d"
      },
      "execution_count": null,
      "outputs": [
        {
          "output_type": "stream",
          "name": "stdout",
          "text": [
            "keras_layer:False\n",
            "dense:True\n",
            "dropout:True\n",
            "dense_1:True\n",
            "dropout_1:True\n",
            "dense_2:True\n",
            "dropout_2:True\n",
            "dense_3:True\n"
          ]
        }
      ]
    },
    {
      "cell_type": "code",
      "source": [
        "from tensorflow.keras.callbacks import ModelCheckpoint\n",
        "checkpoint_filepath = 'model.h5'\n",
        "mc = tf.keras.callbacks.ModelCheckpoint(checkpoint_filepath, verbose = 1, save_weights_only = True, monitor = 'val_loss', mode = 'auto', save_best_omly = True)\n",
        "\n",
        "history = model.fit(train_gen, epochs= 25, verbose = 1, callbacks = [mc], validation_data= val_gen)"
      ],
      "metadata": {
        "colab": {
          "base_uri": "https://localhost:8080/"
        },
        "id": "D-Ufa7utwBFd",
        "outputId": "01d85a61-2373-4f4e-8c5b-4fd77256e568"
      },
      "execution_count": null,
      "outputs": [
        {
          "output_type": "stream",
          "name": "stdout",
          "text": [
            "Epoch 1/25\n",
            "142/142 [==============================] - ETA: 0s - loss: 0.9951 - acc: 0.6333\n",
            "Epoch 1: saving model to model.h5\n",
            "142/142 [==============================] - 256s 2s/step - loss: 0.9951 - acc: 0.6333 - val_loss: 0.7984 - val_acc: 0.6997\n",
            "Epoch 2/25\n",
            "142/142 [==============================] - ETA: 0s - loss: 0.8294 - acc: 0.7033\n",
            "Epoch 2: saving model to model.h5\n",
            "142/142 [==============================] - 215s 2s/step - loss: 0.8294 - acc: 0.7033 - val_loss: 0.7206 - val_acc: 0.7440\n",
            "Epoch 3/25\n",
            "142/142 [==============================] - ETA: 0s - loss: 0.7637 - acc: 0.7309\n",
            "Epoch 3: saving model to model.h5\n",
            "142/142 [==============================] - 216s 2s/step - loss: 0.7637 - acc: 0.7309 - val_loss: 0.6944 - val_acc: 0.7378\n",
            "Epoch 4/25\n",
            "142/142 [==============================] - ETA: 0s - loss: 0.7580 - acc: 0.7398\n",
            "Epoch 4: saving model to model.h5\n",
            "142/142 [==============================] - 214s 2s/step - loss: 0.7580 - acc: 0.7398 - val_loss: 0.6716 - val_acc: 0.7688\n",
            "Epoch 5/25\n",
            "142/142 [==============================] - ETA: 0s - loss: 0.7192 - acc: 0.7462\n",
            "Epoch 5: saving model to model.h5\n",
            "142/142 [==============================] - 216s 2s/step - loss: 0.7192 - acc: 0.7462 - val_loss: 0.6544 - val_acc: 0.7706\n",
            "Epoch 6/25\n",
            "142/142 [==============================] - ETA: 0s - loss: 0.6894 - acc: 0.7572\n",
            "Epoch 6: saving model to model.h5\n",
            "142/142 [==============================] - 213s 1s/step - loss: 0.6894 - acc: 0.7572 - val_loss: 0.6297 - val_acc: 0.7671\n",
            "Epoch 7/25\n",
            "142/142 [==============================] - ETA: 0s - loss: 0.6672 - acc: 0.7658\n",
            "Epoch 7: saving model to model.h5\n",
            "142/142 [==============================] - 215s 2s/step - loss: 0.6672 - acc: 0.7658 - val_loss: 0.6586 - val_acc: 0.7564\n",
            "Epoch 8/25\n",
            "142/142 [==============================] - ETA: 0s - loss: 0.6558 - acc: 0.7742\n",
            "Epoch 8: saving model to model.h5\n",
            "142/142 [==============================] - 214s 2s/step - loss: 0.6558 - acc: 0.7742 - val_loss: 0.6167 - val_acc: 0.7750\n",
            "Epoch 9/25\n",
            "142/142 [==============================] - ETA: 0s - loss: 0.6404 - acc: 0.7749\n",
            "Epoch 9: saving model to model.h5\n",
            "142/142 [==============================] - 213s 2s/step - loss: 0.6404 - acc: 0.7749 - val_loss: 0.6326 - val_acc: 0.7768\n",
            "Epoch 10/25\n",
            "142/142 [==============================] - ETA: 0s - loss: 0.6240 - acc: 0.7913\n",
            "Epoch 10: saving model to model.h5\n",
            "142/142 [==============================] - 214s 2s/step - loss: 0.6240 - acc: 0.7913 - val_loss: 0.6238 - val_acc: 0.7759\n",
            "Epoch 11/25\n",
            "142/142 [==============================] - ETA: 0s - loss: 0.6177 - acc: 0.7884\n",
            "Epoch 11: saving model to model.h5\n",
            "142/142 [==============================] - 212s 1s/step - loss: 0.6177 - acc: 0.7884 - val_loss: 0.6104 - val_acc: 0.7998\n",
            "Epoch 12/25\n",
            "142/142 [==============================] - ETA: 0s - loss: 0.6113 - acc: 0.7875\n",
            "Epoch 12: saving model to model.h5\n",
            "142/142 [==============================] - 215s 2s/step - loss: 0.6113 - acc: 0.7875 - val_loss: 0.6037 - val_acc: 0.7812\n",
            "Epoch 13/25\n",
            "142/142 [==============================] - ETA: 0s - loss: 0.5821 - acc: 0.8005\n",
            "Epoch 13: saving model to model.h5\n",
            "142/142 [==============================] - 215s 2s/step - loss: 0.5821 - acc: 0.8005 - val_loss: 0.5894 - val_acc: 0.7839\n",
            "Epoch 14/25\n",
            "142/142 [==============================] - ETA: 0s - loss: 0.5905 - acc: 0.7966\n",
            "Epoch 14: saving model to model.h5\n",
            "142/142 [==============================] - 213s 2s/step - loss: 0.5905 - acc: 0.7966 - val_loss: 0.5716 - val_acc: 0.7936\n",
            "Epoch 15/25\n",
            "142/142 [==============================] - ETA: 0s - loss: 0.5857 - acc: 0.7968\n",
            "Epoch 15: saving model to model.h5\n",
            "142/142 [==============================] - 213s 2s/step - loss: 0.5857 - acc: 0.7968 - val_loss: 0.6046 - val_acc: 0.7874\n",
            "Epoch 16/25\n",
            "142/142 [==============================] - ETA: 0s - loss: 0.5840 - acc: 0.8045\n",
            "Epoch 16: saving model to model.h5\n",
            "142/142 [==============================] - 215s 2s/step - loss: 0.5840 - acc: 0.8045 - val_loss: 0.5686 - val_acc: 0.7945\n",
            "Epoch 17/25\n",
            "142/142 [==============================] - ETA: 0s - loss: 0.5555 - acc: 0.8087\n",
            "Epoch 17: saving model to model.h5\n",
            "142/142 [==============================] - 216s 2s/step - loss: 0.5555 - acc: 0.8087 - val_loss: 0.6070 - val_acc: 0.7750\n",
            "Epoch 18/25\n",
            "142/142 [==============================] - ETA: 0s - loss: 0.5532 - acc: 0.8074\n",
            "Epoch 18: saving model to model.h5\n",
            "142/142 [==============================] - 215s 2s/step - loss: 0.5532 - acc: 0.8074 - val_loss: 0.5741 - val_acc: 0.7954\n",
            "Epoch 19/25\n",
            "142/142 [==============================] - ETA: 0s - loss: 0.5457 - acc: 0.8118\n",
            "Epoch 19: saving model to model.h5\n",
            "142/142 [==============================] - 212s 1s/step - loss: 0.5457 - acc: 0.8118 - val_loss: 0.5692 - val_acc: 0.7901\n",
            "Epoch 20/25\n",
            "142/142 [==============================] - ETA: 0s - loss: 0.5315 - acc: 0.8160\n",
            "Epoch 20: saving model to model.h5\n",
            "142/142 [==============================] - 213s 1s/step - loss: 0.5315 - acc: 0.8160 - val_loss: 0.5816 - val_acc: 0.7874\n",
            "Epoch 21/25\n",
            "142/142 [==============================] - ETA: 0s - loss: 0.5362 - acc: 0.8125\n",
            "Epoch 21: saving model to model.h5\n",
            "142/142 [==============================] - 217s 2s/step - loss: 0.5362 - acc: 0.8125 - val_loss: 0.5792 - val_acc: 0.7989\n",
            "Epoch 22/25\n",
            "142/142 [==============================] - ETA: 0s - loss: 0.5337 - acc: 0.8125\n",
            "Epoch 22: saving model to model.h5\n",
            "142/142 [==============================] - 214s 2s/step - loss: 0.5337 - acc: 0.8125 - val_loss: 0.6130 - val_acc: 0.7865\n",
            "Epoch 23/25\n",
            "142/142 [==============================] - ETA: 0s - loss: 0.5240 - acc: 0.8169\n",
            "Epoch 23: saving model to model.h5\n",
            "142/142 [==============================] - 214s 2s/step - loss: 0.5240 - acc: 0.8169 - val_loss: 0.6010 - val_acc: 0.7901\n",
            "Epoch 24/25\n",
            "142/142 [==============================] - ETA: 0s - loss: 0.5280 - acc: 0.8206\n",
            "Epoch 24: saving model to model.h5\n",
            "142/142 [==============================] - 218s 2s/step - loss: 0.5280 - acc: 0.8206 - val_loss: 0.5885 - val_acc: 0.7927\n",
            "Epoch 25/25\n",
            "142/142 [==============================] - ETA: 0s - loss: 0.5149 - acc: 0.8209\n",
            "Epoch 25: saving model to model.h5\n",
            "142/142 [==============================] - 211s 1s/step - loss: 0.5149 - acc: 0.8209 - val_loss: 0.5872 - val_acc: 0.7954\n"
          ]
        }
      ]
    },
    {
      "cell_type": "code",
      "source": [
        "import os\n",
        "os.chdir('/content/drive/MyDrive/my models')\n",
        "!wget -c '/content/model.h5' --no-check-certificate"
      ],
      "metadata": {
        "colab": {
          "base_uri": "https://localhost:8080/"
        },
        "id": "sDt8m8sx0Bl6",
        "outputId": "0b620515-471a-44ca-bc9b-00080711ef84"
      },
      "execution_count": null,
      "outputs": [
        {
          "output_type": "stream",
          "name": "stdout",
          "text": [
            "/content/model.h5: Scheme missing.\n"
          ]
        }
      ]
    },
    {
      "cell_type": "code",
      "source": [
        "# Convert the model\n",
        "converter = tf.lite.TFLiteConverter.from_saved_model('/content/model.h5')\n",
        "tflite_model = converter.convert()\n",
        "\n",
        "# Save the model.\n",
        "with open('model.tflite', 'wb') as f:\n",
        "  f.write(tflite_model)"
      ],
      "metadata": {
        "colab": {
          "base_uri": "https://localhost:8080/",
          "height": 380
        },
        "id": "_pwNFwnTFt-r",
        "outputId": "6e84a964-248f-4746-d652-b154d01c1464"
      },
      "execution_count": null,
      "outputs": [
        {
          "output_type": "error",
          "ename": "OSError",
          "evalue": "ignored",
          "traceback": [
            "\u001b[0;31m---------------------------------------------------------------------------\u001b[0m",
            "\u001b[0;31mOSError\u001b[0m                                   Traceback (most recent call last)",
            "\u001b[0;32m<ipython-input-26-2473e59f7e87>\u001b[0m in \u001b[0;36m<module>\u001b[0;34m()\u001b[0m\n\u001b[1;32m      1\u001b[0m \u001b[0;31m# Convert the model\u001b[0m\u001b[0;34m\u001b[0m\u001b[0;34m\u001b[0m\u001b[0;34m\u001b[0m\u001b[0m\n\u001b[0;32m----> 2\u001b[0;31m \u001b[0mconverter\u001b[0m \u001b[0;34m=\u001b[0m \u001b[0mtf\u001b[0m\u001b[0;34m.\u001b[0m\u001b[0mlite\u001b[0m\u001b[0;34m.\u001b[0m\u001b[0mTFLiteConverter\u001b[0m\u001b[0;34m.\u001b[0m\u001b[0mfrom_saved_model\u001b[0m\u001b[0;34m(\u001b[0m\u001b[0;34m'/content/model.h5'\u001b[0m\u001b[0;34m)\u001b[0m\u001b[0;34m\u001b[0m\u001b[0;34m\u001b[0m\u001b[0m\n\u001b[0m\u001b[1;32m      3\u001b[0m \u001b[0mtflite_model\u001b[0m \u001b[0;34m=\u001b[0m \u001b[0mconverter\u001b[0m\u001b[0;34m.\u001b[0m\u001b[0mconvert\u001b[0m\u001b[0;34m(\u001b[0m\u001b[0;34m)\u001b[0m\u001b[0;34m\u001b[0m\u001b[0;34m\u001b[0m\u001b[0m\n\u001b[1;32m      4\u001b[0m \u001b[0;34m\u001b[0m\u001b[0m\n\u001b[1;32m      5\u001b[0m \u001b[0;31m# Save the model.\u001b[0m\u001b[0;34m\u001b[0m\u001b[0;34m\u001b[0m\u001b[0;34m\u001b[0m\u001b[0m\n",
            "\u001b[0;32m/usr/local/lib/python3.7/dist-packages/tensorflow/lite/python/lite.py\u001b[0m in \u001b[0;36mfrom_saved_model\u001b[0;34m(cls, saved_model_dir, signature_keys, tags)\u001b[0m\n\u001b[1;32m   1646\u001b[0m \u001b[0;34m\u001b[0m\u001b[0m\n\u001b[1;32m   1647\u001b[0m     \u001b[0;32mwith\u001b[0m \u001b[0mcontext\u001b[0m\u001b[0;34m.\u001b[0m\u001b[0meager_mode\u001b[0m\u001b[0;34m(\u001b[0m\u001b[0;34m)\u001b[0m\u001b[0;34m:\u001b[0m\u001b[0;34m\u001b[0m\u001b[0;34m\u001b[0m\u001b[0m\n\u001b[0;32m-> 1648\u001b[0;31m       \u001b[0msaved_model\u001b[0m \u001b[0;34m=\u001b[0m \u001b[0m_load\u001b[0m\u001b[0;34m(\u001b[0m\u001b[0msaved_model_dir\u001b[0m\u001b[0;34m,\u001b[0m \u001b[0mtags\u001b[0m\u001b[0;34m)\u001b[0m\u001b[0;34m\u001b[0m\u001b[0;34m\u001b[0m\u001b[0m\n\u001b[0m\u001b[1;32m   1649\u001b[0m     \u001b[0;32mif\u001b[0m \u001b[0;32mnot\u001b[0m \u001b[0msignature_keys\u001b[0m\u001b[0;34m:\u001b[0m\u001b[0;34m\u001b[0m\u001b[0;34m\u001b[0m\u001b[0m\n\u001b[1;32m   1650\u001b[0m       \u001b[0msignature_keys\u001b[0m \u001b[0;34m=\u001b[0m \u001b[0msaved_model\u001b[0m\u001b[0;34m.\u001b[0m\u001b[0msignatures\u001b[0m\u001b[0;34m\u001b[0m\u001b[0;34m\u001b[0m\u001b[0m\n",
            "\u001b[0;32m/usr/local/lib/python3.7/dist-packages/tensorflow/python/saved_model/load.py\u001b[0m in \u001b[0;36mload\u001b[0;34m(export_dir, tags, options)\u001b[0m\n\u001b[1;32m    934\u001b[0m     \u001b[0mValueError\u001b[0m\u001b[0;34m:\u001b[0m \u001b[0mIf\u001b[0m\u001b[0;31m \u001b[0m\u001b[0;31m`\u001b[0m\u001b[0mtags\u001b[0m\u001b[0;31m`\u001b[0m \u001b[0mdon\u001b[0m\u001b[0;31m'\u001b[0m\u001b[0mt\u001b[0m \u001b[0mmatch\u001b[0m \u001b[0ma\u001b[0m \u001b[0mMetaGraph\u001b[0m \u001b[0;32min\u001b[0m \u001b[0mthe\u001b[0m \u001b[0mSavedModel\u001b[0m\u001b[0;34m.\u001b[0m\u001b[0;34m\u001b[0m\u001b[0;34m\u001b[0m\u001b[0m\n\u001b[1;32m    935\u001b[0m   \"\"\"\n\u001b[0;32m--> 936\u001b[0;31m   \u001b[0mresult\u001b[0m \u001b[0;34m=\u001b[0m \u001b[0mload_internal\u001b[0m\u001b[0;34m(\u001b[0m\u001b[0mexport_dir\u001b[0m\u001b[0;34m,\u001b[0m \u001b[0mtags\u001b[0m\u001b[0;34m,\u001b[0m \u001b[0moptions\u001b[0m\u001b[0;34m)\u001b[0m\u001b[0;34m[\u001b[0m\u001b[0;34m\"root\"\u001b[0m\u001b[0;34m]\u001b[0m\u001b[0;34m\u001b[0m\u001b[0;34m\u001b[0m\u001b[0m\n\u001b[0m\u001b[1;32m    937\u001b[0m   \u001b[0;32mreturn\u001b[0m \u001b[0mresult\u001b[0m\u001b[0;34m\u001b[0m\u001b[0;34m\u001b[0m\u001b[0m\n\u001b[1;32m    938\u001b[0m \u001b[0;34m\u001b[0m\u001b[0m\n",
            "\u001b[0;32m/usr/local/lib/python3.7/dist-packages/tensorflow/python/saved_model/load.py\u001b[0m in \u001b[0;36mload_internal\u001b[0;34m(export_dir, tags, options, loader_cls, filters)\u001b[0m\n\u001b[1;32m    947\u001b[0m     \u001b[0mtags\u001b[0m \u001b[0;34m=\u001b[0m \u001b[0mnest\u001b[0m\u001b[0;34m.\u001b[0m\u001b[0mflatten\u001b[0m\u001b[0;34m(\u001b[0m\u001b[0mtags\u001b[0m\u001b[0;34m)\u001b[0m\u001b[0;34m\u001b[0m\u001b[0;34m\u001b[0m\u001b[0m\n\u001b[1;32m    948\u001b[0m   saved_model_proto, debug_info = (\n\u001b[0;32m--> 949\u001b[0;31m       loader_impl.parse_saved_model_with_debug_info(export_dir))\n\u001b[0m\u001b[1;32m    950\u001b[0m \u001b[0;34m\u001b[0m\u001b[0m\n\u001b[1;32m    951\u001b[0m   if (len(saved_model_proto.meta_graphs) == 1 and\n",
            "\u001b[0;32m/usr/local/lib/python3.7/dist-packages/tensorflow/python/saved_model/loader_impl.py\u001b[0m in \u001b[0;36mparse_saved_model_with_debug_info\u001b[0;34m(export_dir)\u001b[0m\n\u001b[1;32m     55\u001b[0m     \u001b[0mparsed\u001b[0m\u001b[0;34m.\u001b[0m \u001b[0mMissing\u001b[0m \u001b[0mgraph\u001b[0m \u001b[0mdebug\u001b[0m \u001b[0minfo\u001b[0m \u001b[0mfile\u001b[0m \u001b[0;32mis\u001b[0m \u001b[0mfine\u001b[0m\u001b[0;34m.\u001b[0m\u001b[0;34m\u001b[0m\u001b[0;34m\u001b[0m\u001b[0m\n\u001b[1;32m     56\u001b[0m   \"\"\"\n\u001b[0;32m---> 57\u001b[0;31m   \u001b[0msaved_model\u001b[0m \u001b[0;34m=\u001b[0m \u001b[0mparse_saved_model\u001b[0m\u001b[0;34m(\u001b[0m\u001b[0mexport_dir\u001b[0m\u001b[0;34m)\u001b[0m\u001b[0;34m\u001b[0m\u001b[0;34m\u001b[0m\u001b[0m\n\u001b[0m\u001b[1;32m     58\u001b[0m \u001b[0;34m\u001b[0m\u001b[0m\n\u001b[1;32m     59\u001b[0m   debug_info_path = file_io.join(\n",
            "\u001b[0;32m/usr/local/lib/python3.7/dist-packages/tensorflow/python/saved_model/loader_impl.py\u001b[0m in \u001b[0;36mparse_saved_model\u001b[0;34m(export_dir)\u001b[0m\n\u001b[1;32m    114\u001b[0m   \u001b[0;32melse\u001b[0m\u001b[0;34m:\u001b[0m\u001b[0;34m\u001b[0m\u001b[0;34m\u001b[0m\u001b[0m\n\u001b[1;32m    115\u001b[0m     raise IOError(\n\u001b[0;32m--> 116\u001b[0;31m         \u001b[0;34mf\"SavedModel file does not exist at: {export_dir}{os.path.sep}\"\u001b[0m\u001b[0;34m\u001b[0m\u001b[0;34m\u001b[0m\u001b[0m\n\u001b[0m\u001b[1;32m    117\u001b[0m         \u001b[0;34mf\"{{{constants.SAVED_MODEL_FILENAME_PBTXT}|\"\u001b[0m\u001b[0;34m\u001b[0m\u001b[0;34m\u001b[0m\u001b[0m\n\u001b[1;32m    118\u001b[0m         f\"{constants.SAVED_MODEL_FILENAME_PB}}}\")\n",
            "\u001b[0;31mOSError\u001b[0m: SavedModel file does not exist at: /content/model.h5/{saved_model.pbtxt|saved_model.pb}"
          ]
        }
      ]
    },
    {
      "cell_type": "code",
      "source": [
        "import matplotlib.pyplot as plt\n",
        "import seaborn as sns\n",
        "\n",
        "history = history.history\n",
        "fig, (ax1, ax2) = plt.subplots(2, 1, sharex= 'col', figsize = (20, 14))\n",
        "\n",
        "ax1.plot(history['loss'], label = 'Train loss')\n",
        "ax1.plot(history['val_loss'], label = 'validation loss')\n",
        "ax1.legend(loc = 'best')\n",
        "ax1.set_title('Loss')\n",
        "\n",
        "ax2.plot(history['acc'], label = 'Train accuracy')\n",
        "ax2.plot(history['val_acc'], label = 'validation accuracy')\n",
        "ax2.legend(loc = 'best')\n",
        "ax2.set_title('Accuracy')\n",
        "\n",
        "plt.xlabel('Epochs')\n",
        "sns.despine()\n",
        "plt.show()"
      ],
      "metadata": {
        "id": "DMXQO4mFxwZo",
        "colab": {
          "base_uri": "https://localhost:8080/",
          "height": 682
        },
        "outputId": "cfaae752-180e-4bfe-d8ad-d68c1df05e26"
      },
      "execution_count": null,
      "outputs": [
        {
          "output_type": "display_data",
          "data": {
            "text/plain": [
              "<Figure size 1440x1008 with 2 Axes>"
            ],
            "image/png": "[encoded data removed]"
          },
          "metadata": {
            "needs_background": "light"
          }
        }
      ]
    },
    {
      "cell_type": "code",
      "source": [
        ""
      ],
      "metadata": {
        "id": "IxgacLkdt_qR"
      },
      "execution_count": null,
      "outputs": []
    },
    {
      "cell_type": "markdown",
      "source": [
        ""
      ],
      "metadata": {
        "id": "WU7irCUSPaA2"
      }
    }
  ]
}